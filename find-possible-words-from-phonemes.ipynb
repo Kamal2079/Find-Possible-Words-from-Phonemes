{
 "cells": [
  {
   "cell_type": "markdown",
   "id": "71baea98",
   "metadata": {
    "papermill": {
     "duration": 0.004018,
     "end_time": "2024-03-08T21:28:48.465511",
     "exception": false,
     "start_time": "2024-03-08T21:28:48.461493",
     "status": "completed"
    },
    "tags": []
   },
   "source": [
    "# Find Possible Words from Phonemes\n",
    "\n",
    "Created by Kamaljit Grewal. March 2024.\n",
    "\n",
    "This is a solution to the following question: Given a sequence of phonemes as input (e.g. [\"DH\", \"EH\", \"R\", \"DH\", \"EH\", \"R\"]), find all the combinations of the words that can produce this sequence (e.g. [[\"THEIR\", \"THEIR\"], [\"THEIR\", \"THERE\"], [\"THERE\", \"THEIR\"], [\"THERE\", \"THERE\"]]). You can preprocess the dictionary into a different data structure if needed.\n",
    "\n",
    "This code utilizes Carnegie Mellon Univeristy's pronouncing dictionary as well as some starter code from kaggle user snimrexzeo (with edits from me) to perform data leaning."
   ]
  },
  {
   "cell_type": "markdown",
   "id": "221ec7e3",
   "metadata": {
    "papermill": {
     "duration": 0.003012,
     "end_time": "2024-03-08T21:28:48.472123",
     "exception": false,
     "start_time": "2024-03-08T21:28:48.469111",
     "status": "completed"
    },
    "tags": []
   },
   "source": [
    "## Data Cleaning"
   ]
  },
  {
   "cell_type": "code",
   "execution_count": 1,
   "id": "d91fa388",
   "metadata": {
    "execution": {
     "iopub.execute_input": "2024-03-08T21:28:48.481673Z",
     "iopub.status.busy": "2024-03-08T21:28:48.480946Z",
     "iopub.status.idle": "2024-03-08T21:28:49.768292Z",
     "shell.execute_reply": "2024-03-08T21:28:49.767102Z"
    },
    "papermill": {
     "duration": 1.295056,
     "end_time": "2024-03-08T21:28:49.770913",
     "exception": false,
     "start_time": "2024-03-08T21:28:48.475857",
     "status": "completed"
    },
    "tags": []
   },
   "outputs": [
    {
     "data": {
      "text/html": [
       "<div>\n",
       "<style scoped>\n",
       "    .dataframe tbody tr th:only-of-type {\n",
       "        vertical-align: middle;\n",
       "    }\n",
       "\n",
       "    .dataframe tbody tr th {\n",
       "        vertical-align: top;\n",
       "    }\n",
       "\n",
       "    .dataframe thead th {\n",
       "        text-align: right;\n",
       "    }\n",
       "</style>\n",
       "<table border=\"1\" class=\"dataframe\">\n",
       "  <thead>\n",
       "    <tr style=\"text-align: right;\">\n",
       "      <th></th>\n",
       "      <th>Word</th>\n",
       "      <th>Phonemes</th>\n",
       "    </tr>\n",
       "  </thead>\n",
       "  <tbody>\n",
       "    <tr>\n",
       "      <th>0</th>\n",
       "      <td>'bout</td>\n",
       "      <td>B AW1 T</td>\n",
       "    </tr>\n",
       "    <tr>\n",
       "      <th>1</th>\n",
       "      <td>'cause</td>\n",
       "      <td>K AH0 Z</td>\n",
       "    </tr>\n",
       "    <tr>\n",
       "      <th>2</th>\n",
       "      <td>'course</td>\n",
       "      <td>K AO1 R S</td>\n",
       "    </tr>\n",
       "    <tr>\n",
       "      <th>3</th>\n",
       "      <td>'cuse</td>\n",
       "      <td>K Y UW1 Z</td>\n",
       "    </tr>\n",
       "    <tr>\n",
       "      <th>4</th>\n",
       "      <td>'em</td>\n",
       "      <td>AH0 M</td>\n",
       "    </tr>\n",
       "    <tr>\n",
       "      <th>...</th>\n",
       "      <td>...</td>\n",
       "      <td>...</td>\n",
       "    </tr>\n",
       "    <tr>\n",
       "      <th>135005</th>\n",
       "      <td>zyuganov</td>\n",
       "      <td>Z Y UW1 G AA0 N AA0 V</td>\n",
       "    </tr>\n",
       "    <tr>\n",
       "      <th>135006</th>\n",
       "      <td>zyuganov(2)</td>\n",
       "      <td>Z UW1 G AA0 N AA0 V</td>\n",
       "    </tr>\n",
       "    <tr>\n",
       "      <th>135007</th>\n",
       "      <td>zyuganov's</td>\n",
       "      <td>Z Y UW1 G AA0 N AA0 V Z</td>\n",
       "    </tr>\n",
       "    <tr>\n",
       "      <th>135008</th>\n",
       "      <td>zyuganov's(2)</td>\n",
       "      <td>Z UW1 G AA0 N AA0 V Z</td>\n",
       "    </tr>\n",
       "    <tr>\n",
       "      <th>135009</th>\n",
       "      <td>zywicki</td>\n",
       "      <td>Z IH0 W IH1 K IY0</td>\n",
       "    </tr>\n",
       "  </tbody>\n",
       "</table>\n",
       "<p>135010 rows × 2 columns</p>\n",
       "</div>"
      ],
      "text/plain": [
       "                 Word                 Phonemes\n",
       "0               'bout                  B AW1 T\n",
       "1              'cause                  K AH0 Z\n",
       "2             'course                K AO1 R S\n",
       "3               'cuse                K Y UW1 Z\n",
       "4                 'em                    AH0 M\n",
       "...               ...                      ...\n",
       "135005       zyuganov    Z Y UW1 G AA0 N AA0 V\n",
       "135006    zyuganov(2)      Z UW1 G AA0 N AA0 V\n",
       "135007     zyuganov's  Z Y UW1 G AA0 N AA0 V Z\n",
       "135008  zyuganov's(2)    Z UW1 G AA0 N AA0 V Z\n",
       "135009        zywicki        Z IH0 W IH1 K IY0\n",
       "\n",
       "[135010 rows x 2 columns]"
      ]
     },
     "execution_count": 1,
     "metadata": {},
     "output_type": "execute_result"
    }
   ],
   "source": [
    "import pandas as pd\n",
    "\n",
    "# We will create a dataframe (dictionary) where each word maps to a list of phonemes.\n",
    "\n",
    "words = []\n",
    "phonemes_list = []\n",
    "dict_file = open('../input/cmu-pronouncing-dictionary/cmudict.dict', 'r')\n",
    "\n",
    "line = [line.rstrip('\\n') for line in dict_file]\n",
    "for l in line:\n",
    "    text = l.split(' ')\n",
    "    words.append(text[0]) #first part of a line is the word\n",
    "    phonemes_list.append(' '.join(text[1:])) #the rest is phonemes\n",
    "    \n",
    "data = pd.DataFrame({'Word': words, 'Phonemes': phonemes_list})\n",
    "\n",
    "data"
   ]
  },
  {
   "cell_type": "code",
   "execution_count": 2,
   "id": "54d25470",
   "metadata": {
    "execution": {
     "iopub.execute_input": "2024-03-08T21:28:49.780164Z",
     "iopub.status.busy": "2024-03-08T21:28:49.779645Z",
     "iopub.status.idle": "2024-03-08T21:29:18.793891Z",
     "shell.execute_reply": "2024-03-08T21:29:18.792137Z"
    },
    "papermill": {
     "duration": 29.022597,
     "end_time": "2024-03-08T21:29:18.797159",
     "exception": false,
     "start_time": "2024-03-08T21:28:49.774562",
     "status": "completed"
    },
    "tags": []
   },
   "outputs": [
    {
     "data": {
      "text/html": [
       "<div>\n",
       "<style scoped>\n",
       "    .dataframe tbody tr th:only-of-type {\n",
       "        vertical-align: middle;\n",
       "    }\n",
       "\n",
       "    .dataframe tbody tr th {\n",
       "        vertical-align: top;\n",
       "    }\n",
       "\n",
       "    .dataframe thead th {\n",
       "        text-align: right;\n",
       "    }\n",
       "</style>\n",
       "<table border=\"1\" class=\"dataframe\">\n",
       "  <thead>\n",
       "    <tr style=\"text-align: right;\">\n",
       "      <th></th>\n",
       "      <th>Word</th>\n",
       "      <th>Phonemes</th>\n",
       "    </tr>\n",
       "  </thead>\n",
       "  <tbody>\n",
       "    <tr>\n",
       "      <th>0</th>\n",
       "      <td>a</td>\n",
       "      <td>AH</td>\n",
       "    </tr>\n",
       "    <tr>\n",
       "      <th>1</th>\n",
       "      <td>aaa</td>\n",
       "      <td>T R IH P AH L EY</td>\n",
       "    </tr>\n",
       "    <tr>\n",
       "      <th>2</th>\n",
       "      <td>aaberg</td>\n",
       "      <td>AA B ER G</td>\n",
       "    </tr>\n",
       "    <tr>\n",
       "      <th>3</th>\n",
       "      <td>aachen</td>\n",
       "      <td>AA K AH N</td>\n",
       "    </tr>\n",
       "    <tr>\n",
       "      <th>4</th>\n",
       "      <td>aachener</td>\n",
       "      <td>AA K AH N ER</td>\n",
       "    </tr>\n",
       "    <tr>\n",
       "      <th>...</th>\n",
       "      <td>...</td>\n",
       "      <td>...</td>\n",
       "    </tr>\n",
       "    <tr>\n",
       "      <th>117384</th>\n",
       "      <td>zynda</td>\n",
       "      <td>Z IH N D AH</td>\n",
       "    </tr>\n",
       "    <tr>\n",
       "      <th>117385</th>\n",
       "      <td>zysk</td>\n",
       "      <td>Z AY S K</td>\n",
       "    </tr>\n",
       "    <tr>\n",
       "      <th>117386</th>\n",
       "      <td>zyskowski</td>\n",
       "      <td>Z IH S K AO F S K IY</td>\n",
       "    </tr>\n",
       "    <tr>\n",
       "      <th>117387</th>\n",
       "      <td>zyuganov</td>\n",
       "      <td>Z Y UW G AA N AA V</td>\n",
       "    </tr>\n",
       "    <tr>\n",
       "      <th>117388</th>\n",
       "      <td>zywicki</td>\n",
       "      <td>Z IH W IH K IY</td>\n",
       "    </tr>\n",
       "  </tbody>\n",
       "</table>\n",
       "<p>117389 rows × 2 columns</p>\n",
       "</div>"
      ],
      "text/plain": [
       "             Word              Phonemes\n",
       "0               a                    AH\n",
       "1             aaa      T R IH P AH L EY\n",
       "2          aaberg             AA B ER G\n",
       "3          aachen             AA K AH N\n",
       "4        aachener          AA K AH N ER\n",
       "...           ...                   ...\n",
       "117384      zynda           Z IH N D AH\n",
       "117385       zysk              Z AY S K\n",
       "117386  zyskowski  Z IH S K AO F S K IY\n",
       "117387   zyuganov    Z Y UW G AA N AA V\n",
       "117388    zywicki        Z IH W IH K IY\n",
       "\n",
       "[117389 rows x 2 columns]"
      ]
     },
     "execution_count": 2,
     "metadata": {},
     "output_type": "execute_result"
    }
   ],
   "source": [
    "indices_to_drop = []\n",
    "\n",
    "# isaplha means aplhabet letters a-z. This means drop rows whose values aren't\n",
    "# purely comprised of alphabet letters a-z.\n",
    "for i, row in data.iterrows():\n",
    "    for j in range(len(row['Word'])):\n",
    "        if not row['Word'][j].isalpha(): \n",
    "            indices_to_drop.append(i)\n",
    "            \n",
    "# I added this: remove the numbers from the phonemes (i.e., DH EH1 R becomes DH EH R)\n",
    "for i, row in data.iterrows():\n",
    "    phonemes = row['Phonemes']\n",
    "    phonemes_without_numbers = ''.join(char if char.isalpha() or char == ' ' else '' for char in phonemes)\n",
    "    data.at[i, 'Phonemes'] = phonemes_without_numbers\n",
    "            \n",
    "# Drop the rows outside the loop to avoid modifying the DataFrame while iterating\n",
    "data = data.drop(index=indices_to_drop)\n",
    "\n",
    "# Reset the index after dropping rows\n",
    "data = data.reset_index(drop=True)\n",
    "\n",
    "data"
   ]
  },
  {
   "cell_type": "markdown",
   "id": "4badbbf4",
   "metadata": {
    "papermill": {
     "duration": 0.004145,
     "end_time": "2024-03-08T21:29:18.805821",
     "exception": false,
     "start_time": "2024-03-08T21:29:18.801676",
     "status": "completed"
    },
    "tags": []
   },
   "source": [
    "# Finding Word Combos"
   ]
  },
  {
   "cell_type": "code",
   "execution_count": 3,
   "id": "7ac465ed",
   "metadata": {
    "execution": {
     "iopub.execute_input": "2024-03-08T21:29:18.817398Z",
     "iopub.status.busy": "2024-03-08T21:29:18.816453Z",
     "iopub.status.idle": "2024-03-08T21:29:19.574973Z",
     "shell.execute_reply": "2024-03-08T21:29:19.573390Z"
    },
    "papermill": {
     "duration": 0.768075,
     "end_time": "2024-03-08T21:29:19.577856",
     "exception": false,
     "start_time": "2024-03-08T21:29:18.809781",
     "status": "completed"
    },
    "tags": []
   },
   "outputs": [
    {
     "name": "stdout",
     "output_type": "stream",
     "text": [
      "[['their', 'their'], ['their', 'there'], ['there', 'their'], ['there', 'there']]\n",
      "[['suh', 'mm', 'one'], ['suh', 'mm', 'won'], ['some', 'one'], ['some', 'won'], ['sum', 'one'], ['sum', 'won'], ['someone']]\n"
     ]
    }
   ],
   "source": [
    "from collections import defaultdict\n",
    "from typing import Sequence\n",
    "\n",
    "def find_word_combos_with_pronunciation(phonemes: Sequence[str]) -> Sequence[Sequence[str]]:\n",
    "    def backtrack(start_index, path):\n",
    "        if start_index == len(phonemes): # at the end of the phonemes sequence. return what you've got.\n",
    "            result.append(path[:])\n",
    "            return\n",
    "        for end_index in range(start_index + 1, len(phonemes) + 1):\n",
    "            current_phonemes = ' '.join(phonemes[start_index:end_index])\n",
    "            \n",
    "            # See if our phoneme matches anything in the Phonemes column of the dataframe\n",
    "            Series = data.loc[data['Phonemes'] == current_phonemes]\n",
    "            if not Series.empty:\n",
    "                for i in Series.Word: # if we get a match, add the corresponding Word to path\n",
    "                    path.append(i)\n",
    "                    backtrack(end_index, path)\n",
    "                    path.pop()\n",
    "    \n",
    "    result = [] # starts here\n",
    "    backtrack(0, [])\n",
    "    return result\n",
    "\n",
    "# Example usage\n",
    "phonemes_sequence = [\"DH\", \"EH\", \"R\", \"DH\",\"EH\",\"R\"]\n",
    "result = find_word_combos_with_pronunciation(phonemes_sequence)\n",
    "print(result)\n",
    "\n",
    "phonemes_sequence = [\"S\", \"AH\", \"M\", \"W\", \"AH\", \"N\"]\n",
    "result = find_word_combos_with_pronunciation(phonemes_sequence)\n",
    "print(result)"
   ]
  }
 ],
 "metadata": {
  "kaggle": {
   "accelerator": "none",
   "dataSources": [
    {
     "datasetId": 1867,
     "sourceId": 3239,
     "sourceType": "datasetVersion"
    }
   ],
   "dockerImageVersionId": 30579,
   "isGpuEnabled": false,
   "isInternetEnabled": true,
   "language": "python",
   "sourceType": "notebook"
  },
  "kernelspec": {
   "display_name": "Python 3",
   "language": "python",
   "name": "python3"
  },
  "language_info": {
   "codemirror_mode": {
    "name": "ipython",
    "version": 3
   },
   "file_extension": ".py",
   "mimetype": "text/x-python",
   "name": "python",
   "nbconvert_exporter": "python",
   "pygments_lexer": "ipython3",
   "version": "3.10.12"
  },
  "papermill": {
   "default_parameters": {},
   "duration": 36.600364,
   "end_time": "2024-03-08T21:29:20.510870",
   "environment_variables": {},
   "exception": null,
   "input_path": "__notebook__.ipynb",
   "output_path": "__notebook__.ipynb",
   "parameters": {},
   "start_time": "2024-03-08T21:28:43.910506",
   "version": "2.4.0"
  }
 },
 "nbformat": 4,
 "nbformat_minor": 5
}
